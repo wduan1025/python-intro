{
 "cells": [
  {
   "cell_type": "markdown",
   "metadata": {},
   "source": [
    "Import necessary packages: pandas, numpy and plotly"
   ]
  },
  {
   "cell_type": "markdown",
   "metadata": {},
   "source": [
    "设置plotly显示结果的模式"
   ]
  },
  {
   "cell_type": "code",
   "execution_count": 2,
   "metadata": {},
   "outputs": [
    {
     "data": {
      "text/html": [
       "        <script type=\"text/javascript\">\n",
       "        window.PlotlyConfig = {MathJaxConfig: 'local'};\n",
       "        if (window.MathJax) {MathJax.Hub.Config({SVG: {font: \"STIX-Web\"}});}\n",
       "        if (typeof require !== 'undefined') {\n",
       "        require.undef(\"plotly\");\n",
       "        requirejs.config({\n",
       "            paths: {\n",
       "                'plotly': ['https://cdn.plot.ly/plotly-latest.min']\n",
       "            }\n",
       "        });\n",
       "        require(['plotly'], function(Plotly) {\n",
       "            window._Plotly = Plotly;\n",
       "        });\n",
       "        }\n",
       "        </script>\n",
       "        "
      ]
     },
     "metadata": {},
     "output_type": "display_data"
    }
   ],
   "source": [
    "plotly.offline.init_notebook_mode(connected=True)"
   ]
  },
  {
   "cell_type": "markdown",
   "metadata": {},
   "source": [
    "读取csv数据到pandas DataFrame"
   ]
  },
  {
   "cell_type": "markdown",
   "metadata": {},
   "source": [
    "用shape和head()来查看数据的基本情况"
   ]
  },
  {
   "cell_type": "markdown",
   "metadata": {},
   "source": [
    "找出来占了多行的国家"
   ]
  },
  {
   "cell_type": "code",
   "execution_count": 5,
   "metadata": {},
   "outputs": [
    {
     "data": {
      "text/plain": [
       "{'Australia': 9,\n",
       " 'Canada': 12,\n",
       " 'China': 33,\n",
       " 'Denmark': 3,\n",
       " 'France': 9,\n",
       " 'Netherlands': 4,\n",
       " 'US': 249,\n",
       " 'United Kingdom': 7}"
      ]
     },
     "execution_count": 5,
     "metadata": {},
     "output_type": "execute_result"
    }
   ],
   "source": [
    "countries, counts = np.unique(df['Country/Region'].values, return_counts = True)\n",
    "multi_region_countries = {countries[i] : counts[i] for i in range(len(countries)) if counts[i] > 1}\n",
    "multi_region_countries"
   ]
  },
  {
   "cell_type": "markdown",
   "metadata": {},
   "source": [
    "查看每个国家的情况，都是什么样的行政单位占了很多行"
   ]
  },
  {
   "cell_type": "code",
   "execution_count": 6,
   "metadata": {
    "scrolled": true
   },
   "outputs": [
    {
     "data": {
      "text/html": [
       "<div>\n",
       "<style scoped>\n",
       "    .dataframe tbody tr th:only-of-type {\n",
       "        vertical-align: middle;\n",
       "    }\n",
       "\n",
       "    .dataframe tbody tr th {\n",
       "        vertical-align: top;\n",
       "    }\n",
       "\n",
       "    .dataframe thead th {\n",
       "        text-align: right;\n",
       "    }\n",
       "</style>\n",
       "<table border=\"1\" class=\"dataframe\">\n",
       "  <thead>\n",
       "    <tr style=\"text-align: right;\">\n",
       "      <th></th>\n",
       "      <th>Province/State</th>\n",
       "      <th>Country/Region</th>\n",
       "      <th>Lat</th>\n",
       "      <th>Long</th>\n",
       "      <th>1/22/20</th>\n",
       "      <th>1/23/20</th>\n",
       "      <th>1/24/20</th>\n",
       "      <th>1/25/20</th>\n",
       "      <th>1/26/20</th>\n",
       "      <th>1/27/20</th>\n",
       "      <th>...</th>\n",
       "      <th>3/14/20</th>\n",
       "      <th>3/15/20</th>\n",
       "      <th>3/16/20</th>\n",
       "      <th>3/17/20</th>\n",
       "      <th>3/18/20</th>\n",
       "      <th>3/19/20</th>\n",
       "      <th>3/20/20</th>\n",
       "      <th>3/21/20</th>\n",
       "      <th>3/22/20</th>\n",
       "      <th>3/23/20</th>\n",
       "    </tr>\n",
       "  </thead>\n",
       "  <tbody>\n",
       "    <tr>\n",
       "      <th>170</th>\n",
       "      <td>Denmark</td>\n",
       "      <td>Denmark</td>\n",
       "      <td>56.2639</td>\n",
       "      <td>9.5018</td>\n",
       "      <td>0</td>\n",
       "      <td>0</td>\n",
       "      <td>0</td>\n",
       "      <td>0</td>\n",
       "      <td>0</td>\n",
       "      <td>0</td>\n",
       "      <td>...</td>\n",
       "      <td>827</td>\n",
       "      <td>864</td>\n",
       "      <td>914</td>\n",
       "      <td>977</td>\n",
       "      <td>1057</td>\n",
       "      <td>1151</td>\n",
       "      <td>1255</td>\n",
       "      <td>1326</td>\n",
       "      <td>1395</td>\n",
       "      <td>1395.0</td>\n",
       "    </tr>\n",
       "    <tr>\n",
       "      <th>197</th>\n",
       "      <td>Faroe Islands</td>\n",
       "      <td>Denmark</td>\n",
       "      <td>61.8926</td>\n",
       "      <td>-6.9118</td>\n",
       "      <td>0</td>\n",
       "      <td>0</td>\n",
       "      <td>0</td>\n",
       "      <td>0</td>\n",
       "      <td>0</td>\n",
       "      <td>0</td>\n",
       "      <td>...</td>\n",
       "      <td>9</td>\n",
       "      <td>11</td>\n",
       "      <td>18</td>\n",
       "      <td>47</td>\n",
       "      <td>58</td>\n",
       "      <td>72</td>\n",
       "      <td>80</td>\n",
       "      <td>92</td>\n",
       "      <td>115</td>\n",
       "      <td>115.0</td>\n",
       "    </tr>\n",
       "    <tr>\n",
       "      <th>461</th>\n",
       "      <td>Greenland</td>\n",
       "      <td>Denmark</td>\n",
       "      <td>71.7069</td>\n",
       "      <td>-42.6043</td>\n",
       "      <td>0</td>\n",
       "      <td>0</td>\n",
       "      <td>0</td>\n",
       "      <td>0</td>\n",
       "      <td>0</td>\n",
       "      <td>0</td>\n",
       "      <td>...</td>\n",
       "      <td>0</td>\n",
       "      <td>0</td>\n",
       "      <td>1</td>\n",
       "      <td>1</td>\n",
       "      <td>1</td>\n",
       "      <td>2</td>\n",
       "      <td>2</td>\n",
       "      <td>2</td>\n",
       "      <td>4</td>\n",
       "      <td>4.0</td>\n",
       "    </tr>\n",
       "  </tbody>\n",
       "</table>\n",
       "<p>3 rows × 66 columns</p>\n",
       "</div>"
      ],
      "text/plain": [
       "    Province/State Country/Region      Lat     Long  1/22/20  1/23/20  \\\n",
       "170        Denmark        Denmark  56.2639   9.5018        0        0   \n",
       "197  Faroe Islands        Denmark  61.8926  -6.9118        0        0   \n",
       "461      Greenland        Denmark  71.7069 -42.6043        0        0   \n",
       "\n",
       "     1/24/20  1/25/20  1/26/20  1/27/20  ...  3/14/20  3/15/20  3/16/20  \\\n",
       "170        0        0        0        0  ...      827      864      914   \n",
       "197        0        0        0        0  ...        9       11       18   \n",
       "461        0        0        0        0  ...        0        0        1   \n",
       "\n",
       "     3/17/20  3/18/20  3/19/20  3/20/20  3/21/20  3/22/20  3/23/20  \n",
       "170      977     1057     1151     1255     1326     1395   1395.0  \n",
       "197       47       58       72       80       92      115    115.0  \n",
       "461        1        1        2        2        2        4      4.0  \n",
       "\n",
       "[3 rows x 66 columns]"
      ]
     },
     "execution_count": 6,
     "metadata": {},
     "output_type": "execute_result"
    }
   ],
   "source": [
    "df[df[\"Country/Region\"] == \"Denmark\"]"
   ]
  },
  {
   "cell_type": "markdown",
   "metadata": {},
   "source": [
    "其中美国比较特殊，除了州以外，还包括了county的信息"
   ]
  },
  {
   "cell_type": "code",
   "execution_count": 7,
   "metadata": {},
   "outputs": [
    {
     "data": {
      "text/plain": [
       "array(['Washington', 'New York', 'California', 'Massachusetts',\n",
       "       'Diamond Princess', 'Grand Princess', 'Georgia', 'Colorado',\n",
       "       'Florida', 'New Jersey', 'Oregon', 'Texas', 'Illinois',\n",
       "       'Pennsylvania', 'Iowa', 'Maryland', 'North Carolina',\n",
       "       'South Carolina', 'Tennessee', 'Virginia', 'Arizona', 'Indiana',\n",
       "       'Kentucky', 'District of Columbia', 'Nevada', 'New Hampshire',\n",
       "       'Minnesota', 'Nebraska', 'Ohio', 'Rhode Island', 'Wisconsin',\n",
       "       'Connecticut', 'Hawaii', 'Oklahoma', 'Utah', 'Kansas', 'Louisiana',\n",
       "       'Missouri', 'Vermont', 'Alaska', 'Arkansas', 'Delaware', 'Idaho',\n",
       "       'Maine', 'Michigan', 'Mississippi', 'Montana', 'New Mexico',\n",
       "       'North Dakota', 'South Dakota', 'West Virginia', 'Wyoming',\n",
       "       'Kitsap, WA', 'Solano, CA', 'Santa Cruz, CA', 'Napa, CA',\n",
       "       'Ventura, CA', 'Worcester, MA', 'Gwinnett, GA', 'DeKalb, GA',\n",
       "       'Floyd, GA', 'Fayette, GA', 'Gregg, TX', 'Monmouth, NJ',\n",
       "       'Burlington, NJ', 'Camden, NJ', 'Passaic, NJ', 'Union, NJ',\n",
       "       'Eagle, CO', 'Larimer, CO', 'Arapahoe, CO', 'Gunnison, CO',\n",
       "       'Kane, IL', 'Monroe, PA', 'Philadelphia, PA', 'Norfolk, VA',\n",
       "       'Arlington, VA', 'Spotsylvania, VA', 'Loudoun, VA',\n",
       "       \"Prince George's, MD\", 'Pottawattamie, IA', 'Camden, NC',\n",
       "       'Pima, AZ', 'Noble, IN', 'Adams, IN', 'Boone, IN', 'Dane, WI',\n",
       "       'Pierce, WI', 'Cuyahoga, OH', 'Weber, UT', 'Bennington County, VT',\n",
       "       'Carver County, MN', 'Charlotte County, FL', 'Cherokee County, GA',\n",
       "       'Collin County, TX', 'Jefferson County, KY',\n",
       "       'Jefferson Parish, LA', 'Shasta County, CA',\n",
       "       'Spartanburg County, SC', 'Harrison County, KY',\n",
       "       'Johnson County, IA', 'Berkshire County, MA',\n",
       "       'Davidson County, TN', 'Douglas County, OR', 'Fresno County, CA',\n",
       "       'Harford County, MD', 'Hendricks County, IN', 'Hudson County, NJ',\n",
       "       'Johnson County, KS', 'Kittitas County, WA', 'Manatee County, FL',\n",
       "       'Marion County, OR', 'Okaloosa County, FL', 'Polk County, GA',\n",
       "       'Riverside County, CA', 'Shelby County, TN',\n",
       "       'St. Louis County, MO', 'Suffolk County, NY', 'Ulster County, NY',\n",
       "       'Volusia County, FL', 'Fairfax County, VA',\n",
       "       'Rockingham County, NH', 'Washington, D.C.',\n",
       "       'Montgomery County, PA', 'Alameda County, CA',\n",
       "       'Broward County, FL', 'Lee County, FL', 'Pinal County, AZ',\n",
       "       'Rockland County, NY', 'Saratoga County, NY',\n",
       "       'Charleston County, SC', 'Clark County, WA', 'Cobb County, GA',\n",
       "       'Davis County, UT', 'El Paso County, CO', 'Honolulu County, HI',\n",
       "       'Jackson County, OR ', 'Jefferson County, WA',\n",
       "       'Kershaw County, SC', 'Klamath County, OR', 'Madera County, CA',\n",
       "       'Pierce County, WA', 'Tulsa County, OK', 'Douglas County, CO',\n",
       "       'Providence County, RI', 'Chatham County, NC',\n",
       "       'Delaware County, PA', 'Douglas County, NE', 'Fayette County, KY',\n",
       "       'Marion County, IN', 'Middlesex County, MA', 'Nassau County, NY',\n",
       "       'Ramsey County, MN', 'Washoe County, NV', 'Wayne County, PA',\n",
       "       'Yolo County, CA', 'Santa Clara County, CA', 'Clark County, NV',\n",
       "       'Fort Bend County, TX', 'Grant County, WA',\n",
       "       'Santa Rosa County, FL', 'Williamson County, TN',\n",
       "       'New York County, NY', 'Montgomery County, MD',\n",
       "       'Suffolk County, MA', 'Denver County, CO', 'Summit County, CO',\n",
       "       'Bergen County, NJ', 'Harris County, TX',\n",
       "       'San Francisco County, CA', 'Contra Costa County, CA',\n",
       "       'Orange County, CA', 'Norfolk County, MA', 'Maricopa County, AZ',\n",
       "       'Wake County, NC', 'Westchester County, NY', 'Grafton County, NH',\n",
       "       'Hillsborough, FL', 'Placer County, CA', 'San Mateo, CA',\n",
       "       'Sonoma County, CA', 'Umatilla, OR', 'Fulton County, GA',\n",
       "       'Washington County, OR', 'Snohomish County, WA',\n",
       "       'Humboldt County, CA', 'Sacramento County, CA',\n",
       "       'San Diego County, CA', 'San Benito, CA', 'Los Angeles, CA',\n",
       "       'King County, WA', 'Cook County, IL', 'Skagit, WA', 'Thurston, WA',\n",
       "       'Island, WA', 'Whatcom, WA', 'Marin, CA', 'Calaveras, CA',\n",
       "       'Stanislaus, CA', 'San Joaquin, CA', 'Essex, MA', 'Charlton, GA',\n",
       "       'Collier, FL', 'Pinellas, FL', 'Alachua, FL', 'Nassau, FL',\n",
       "       'Pasco, FL', 'Dallas, TX', 'Tarrant, TX', 'Montgomery, TX',\n",
       "       'Middlesex, NJ', 'Jefferson, CO', 'Multnomah, OR', 'Polk, OR',\n",
       "       'Deschutes, OR', 'McHenry, IL', 'Lake, IL', 'Bucks, PA',\n",
       "       'Hanover, VA', 'Lancaster, SC', 'Sullivan, TN', 'Johnson, IN',\n",
       "       'Howard, IN', 'St. Joseph, IN', 'Knox, NE', 'Stark, OH',\n",
       "       'Anoka, MN', 'Olmsted, MN', 'Summit, UT', 'Fairfield, CT',\n",
       "       'Litchfield, CT', 'Orleans, LA', 'Pennington, SD', 'Beadle, SD',\n",
       "       'Charles Mix, SD', 'Davison, SD', 'Minnehaha, SD', 'Bon Homme, SD',\n",
       "       'Socorro, NM', 'Bernalillo, NM', 'Oakland, MI', 'Wayne, MI',\n",
       "       'New Castle, DE', 'Alabama', 'Puerto Rico', 'Guam',\n",
       "       'Virgin Islands', 'United States Virgin Islands', 'US'],\n",
       "      dtype=object)"
      ]
     },
     "execution_count": 7,
     "metadata": {},
     "output_type": "execute_result"
    }
   ],
   "source": [
    "df[df['Country/Region'] == 'US']['Province/State'].values"
   ]
  },
  {
   "cell_type": "markdown",
   "metadata": {},
   "source": [
    "观察发现只有美国比较难搞，其它国家都可以把不同的行政区直接加起来。。。美国的包含一大堆county的名字，在Province/State中含有逗号, 通过这个来识别并去掉\n",
    "注意，英国、法国等包含一个与本国名相同的Province/State, 指的是本土\n",
    "所以:\n",
    "1. 先drop掉美国的这些county\n",
    "2. 对于其它国家，数量上把整个国家的加起来，Lat/Long按照本土的或者首都位置来设置"
   ]
  },
  {
   "cell_type": "markdown",
   "metadata": {},
   "source": [
    "用一个函数来aggregate每一个国家的不同province/state"
   ]
  },
  {
   "cell_type": "markdown",
   "metadata": {},
   "source": [
    "读入国家代码数据， 用于plotly package"
   ]
  },
  {
   "cell_type": "code",
   "execution_count": 12,
   "metadata": {},
   "outputs": [
    {
     "data": {
      "text/html": [
       "<div>\n",
       "<style scoped>\n",
       "    .dataframe tbody tr th:only-of-type {\n",
       "        vertical-align: middle;\n",
       "    }\n",
       "\n",
       "    .dataframe tbody tr th {\n",
       "        vertical-align: top;\n",
       "    }\n",
       "\n",
       "    .dataframe thead th {\n",
       "        text-align: right;\n",
       "    }\n",
       "</style>\n",
       "<table border=\"1\" class=\"dataframe\">\n",
       "  <thead>\n",
       "    <tr style=\"text-align: right;\">\n",
       "      <th></th>\n",
       "      <th>CODE</th>\n",
       "    </tr>\n",
       "    <tr>\n",
       "      <th>COUNTRY</th>\n",
       "      <th></th>\n",
       "    </tr>\n",
       "  </thead>\n",
       "  <tbody>\n",
       "    <tr>\n",
       "      <th>Afghanistan</th>\n",
       "      <td>AFG</td>\n",
       "    </tr>\n",
       "    <tr>\n",
       "      <th>Albania</th>\n",
       "      <td>ALB</td>\n",
       "    </tr>\n",
       "    <tr>\n",
       "      <th>Algeria</th>\n",
       "      <td>DZA</td>\n",
       "    </tr>\n",
       "    <tr>\n",
       "      <th>American Samoa</th>\n",
       "      <td>ASM</td>\n",
       "    </tr>\n",
       "    <tr>\n",
       "      <th>Andorra</th>\n",
       "      <td>AND</td>\n",
       "    </tr>\n",
       "    <tr>\n",
       "      <th>...</th>\n",
       "      <td>...</td>\n",
       "    </tr>\n",
       "    <tr>\n",
       "      <th>Virgin Islands</th>\n",
       "      <td>VGB</td>\n",
       "    </tr>\n",
       "    <tr>\n",
       "      <th>West Bank</th>\n",
       "      <td>WBG</td>\n",
       "    </tr>\n",
       "    <tr>\n",
       "      <th>Yemen</th>\n",
       "      <td>YEM</td>\n",
       "    </tr>\n",
       "    <tr>\n",
       "      <th>Zambia</th>\n",
       "      <td>ZMB</td>\n",
       "    </tr>\n",
       "    <tr>\n",
       "      <th>Zimbabwe</th>\n",
       "      <td>ZWE</td>\n",
       "    </tr>\n",
       "  </tbody>\n",
       "</table>\n",
       "<p>222 rows × 1 columns</p>\n",
       "</div>"
      ],
      "text/plain": [
       "               CODE\n",
       "COUNTRY            \n",
       "Afghanistan     AFG\n",
       "Albania         ALB\n",
       "Algeria         DZA\n",
       "American Samoa  ASM\n",
       "Andorra         AND\n",
       "...             ...\n",
       "Virgin Islands  VGB\n",
       "West Bank       WBG\n",
       "Yemen           YEM\n",
       "Zambia          ZMB\n",
       "Zimbabwe        ZWE\n",
       "\n",
       "[222 rows x 1 columns]"
      ]
     },
     "execution_count": 12,
     "metadata": {},
     "output_type": "execute_result"
    }
   ],
   "source": [
    "country_code = pd.read_excel(\"country_code.xlsx\")\n",
    "country_code.set_index(\"COUNTRY\")"
   ]
  },
  {
   "cell_type": "markdown",
   "metadata": {},
   "source": [
    "把两个数据集中的国家名字拿出来"
   ]
  },
  {
   "cell_type": "markdown",
   "metadata": {},
   "source": [
    "获取差集"
   ]
  },
  {
   "cell_type": "markdown",
   "metadata": {},
   "source": [
    "为这些在df中没有数据的国家，创建空白数据"
   ]
  },
  {
   "cell_type": "markdown",
   "metadata": {},
   "source": [
    "把在在country code中有，但是没有COVID19统计数据的国家的空白数据添加到df中"
   ]
  },
  {
   "cell_type": "code",
   "execution_count": null,
   "metadata": {},
   "outputs": [],
   "source": [
    "把空白数据拼接到df中去"
   ]
  },
  {
   "cell_type": "markdown",
   "metadata": {},
   "source": [
    "剔除没有country code的国家"
   ]
  },
  {
   "cell_type": "code",
   "execution_count": 1,
   "metadata": {},
   "outputs": [
    {
     "ename": "NameError",
     "evalue": "name 'cleaned_df' is not defined",
     "output_type": "error",
     "traceback": [
      "\u001b[0;31m---------------------------------------------------------------------------\u001b[0m",
      "\u001b[0;31mNameError\u001b[0m                                 Traceback (most recent call last)",
      "\u001b[0;32m<ipython-input-1-4796cc02bfc7>\u001b[0m in \u001b[0;36m<module>\u001b[0;34m\u001b[0m\n\u001b[1;32m     10\u001b[0m     \u001b[0;32mreturn\u001b[0m \u001b[0mfig\u001b[0m\u001b[0;34m\u001b[0m\u001b[0;34m\u001b[0m\u001b[0m\n\u001b[1;32m     11\u001b[0m \u001b[0mdate\u001b[0m \u001b[0;34m=\u001b[0m \u001b[0;34m'3/21/20'\u001b[0m\u001b[0;34m\u001b[0m\u001b[0;34m\u001b[0m\u001b[0m\n\u001b[0;32m---> 12\u001b[0;31m \u001b[0mfig\u001b[0m \u001b[0;34m=\u001b[0m \u001b[0mdraw_figure\u001b[0m\u001b[0;34m(\u001b[0m\u001b[0mcleaned_df\u001b[0m\u001b[0;34m,\u001b[0m \u001b[0mdate\u001b[0m\u001b[0;34m)\u001b[0m\u001b[0;34m\u001b[0m\u001b[0;34m\u001b[0m\u001b[0m\n\u001b[0m\u001b[1;32m     13\u001b[0m \u001b[0mfig\u001b[0m\u001b[0;34m.\u001b[0m\u001b[0mshow\u001b[0m\u001b[0;34m(\u001b[0m\u001b[0;34m)\u001b[0m\u001b[0;34m\u001b[0m\u001b[0;34m\u001b[0m\u001b[0m\n",
      "\u001b[0;31mNameError\u001b[0m: name 'cleaned_df' is not defined"
     ]
    }
   ],
   "source": [
    "def draw_figure(df, date):\n",
    "    fig = go.Figure(data=go.Choropleth(\n",
    "        locations = df['CODE'],\n",
    "        z = df[date],\n",
    "    ))\n",
    "\n",
    "    fig.update_layout(\n",
    "        title_text='COVID19 Accumulative Confirmed Cases',\n",
    "    )\n",
    "    return fig\n",
    "date = '3/21/20'\n",
    "fig = draw_figure(cleaned_df, date)\n",
    "fig.show()"
   ]
  },
  {
   "cell_type": "code",
   "execution_count": 24,
   "metadata": {},
   "outputs": [
    {
     "data": {
      "text/plain": [
       "'cov19-confirmed.html'"
      ]
     },
     "execution_count": 24,
     "metadata": {},
     "output_type": "execute_result"
    }
   ],
   "source": [
    "plotly.offline.plot(fig, filename='cov19-confirmed.html')"
   ]
  },
  {
   "cell_type": "code",
   "execution_count": null,
   "metadata": {},
   "outputs": [],
   "source": []
  },
  {
   "cell_type": "code",
   "execution_count": null,
   "metadata": {},
   "outputs": [],
   "source": []
  },
  {
   "cell_type": "code",
   "execution_count": null,
   "metadata": {},
   "outputs": [],
   "source": []
  },
  {
   "cell_type": "code",
   "execution_count": null,
   "metadata": {},
   "outputs": [],
   "source": []
  },
  {
   "cell_type": "code",
   "execution_count": null,
   "metadata": {},
   "outputs": [],
   "source": []
  }
 ],
 "metadata": {
  "kernelspec": {
   "display_name": "Python 3.7.6 64-bit ('base': conda)",
   "language": "python",
   "name": "python37664bitbaseconda39872f25d044465db2c0025d6a59bee5"
  },
  "language_info": {
   "codemirror_mode": {
    "name": "ipython",
    "version": 3
   },
   "file_extension": ".py",
   "mimetype": "text/x-python",
   "name": "python",
   "nbconvert_exporter": "python",
   "pygments_lexer": "ipython3",
   "version": "3.7.6"
  }
 },
 "nbformat": 4,
 "nbformat_minor": 4
}
