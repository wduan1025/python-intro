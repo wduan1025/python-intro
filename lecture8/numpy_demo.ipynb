{
 "cells": [
  {
   "cell_type": "code",
   "execution_count": 5,
   "metadata": {},
   "outputs": [],
   "source": [
    "import numpy as np"
   ]
  },
  {
   "cell_type": "code",
   "execution_count": 7,
   "metadata": {},
   "outputs": [],
   "source": [
    "a = np.arange(5)"
   ]
  },
  {
   "cell_type": "code",
   "execution_count": 13,
   "metadata": {},
   "outputs": [
    {
     "data": {
      "text/plain": [
       "(2, 2)"
      ]
     },
     "execution_count": 13,
     "metadata": {},
     "output_type": "execute_result"
    }
   ],
   "source": [
    "a.shape"
   ]
  },
  {
   "cell_type": "code",
   "execution_count": 10,
   "metadata": {},
   "outputs": [
    {
     "data": {
      "text/plain": [
       "(5,)"
      ]
     },
     "execution_count": 10,
     "metadata": {},
     "output_type": "execute_result"
    }
   ],
   "source": [
    "a.shape"
   ]
  },
  {
   "cell_type": "code",
   "execution_count": 11,
   "metadata": {},
   "outputs": [],
   "source": [
    "a = np.array([[1,2],[3,4]])"
   ]
  },
  {
   "cell_type": "code",
   "execution_count": 15,
   "metadata": {},
   "outputs": [],
   "source": [
    "b = a+1"
   ]
  },
  {
   "cell_type": "code",
   "execution_count": 16,
   "metadata": {},
   "outputs": [
    {
     "data": {
      "text/plain": [
       "array([[2, 3],\n",
       "       [4, 5]])"
      ]
     },
     "execution_count": 16,
     "metadata": {},
     "output_type": "execute_result"
    }
   ],
   "source": [
    "b"
   ]
  },
  {
   "cell_type": "code",
   "execution_count": 20,
   "metadata": {},
   "outputs": [],
   "source": [
    "l = [[2,3],[4,5]]"
   ]
  },
  {
   "cell_type": "code",
   "execution_count": 21,
   "metadata": {},
   "outputs": [
    {
     "data": {
      "text/plain": [
       "3"
      ]
     },
     "execution_count": 21,
     "metadata": {},
     "output_type": "execute_result"
    }
   ],
   "source": [
    "l[0][1]"
   ]
  },
  {
   "cell_type": "code",
   "execution_count": 22,
   "metadata": {},
   "outputs": [
    {
     "data": {
      "text/plain": [
       "3"
      ]
     },
     "execution_count": 22,
     "metadata": {},
     "output_type": "execute_result"
    }
   ],
   "source": [
    "b[0,1]"
   ]
  },
  {
   "cell_type": "code",
   "execution_count": 23,
   "metadata": {},
   "outputs": [
    {
     "data": {
      "text/plain": [
       "array([[2, 3],\n",
       "       [4, 5]])"
      ]
     },
     "execution_count": 23,
     "metadata": {},
     "output_type": "execute_result"
    }
   ],
   "source": [
    "b"
   ]
  },
  {
   "cell_type": "code",
   "execution_count": 24,
   "metadata": {},
   "outputs": [
    {
     "data": {
      "text/plain": [
       "array([[2, 4],\n",
       "       [3, 5]])"
      ]
     },
     "execution_count": 24,
     "metadata": {},
     "output_type": "execute_result"
    }
   ],
   "source": [
    "b.transpose()"
   ]
  },
  {
   "cell_type": "code",
   "execution_count": 26,
   "metadata": {},
   "outputs": [],
   "source": [
    "b = np.arange(16).reshape((4,4))"
   ]
  },
  {
   "cell_type": "code",
   "execution_count": 27,
   "metadata": {},
   "outputs": [
    {
     "data": {
      "text/plain": [
       "array([[ 0,  1,  2,  3],\n",
       "       [ 4,  5,  6,  7],\n",
       "       [ 8,  9, 10, 11],\n",
       "       [12, 13, 14, 15]])"
      ]
     },
     "execution_count": 27,
     "metadata": {},
     "output_type": "execute_result"
    }
   ],
   "source": [
    "b"
   ]
  },
  {
   "cell_type": "code",
   "execution_count": 28,
   "metadata": {},
   "outputs": [
    {
     "data": {
      "text/plain": [
       "array([[ 0,  4,  8, 12],\n",
       "       [ 1,  5,  9, 13],\n",
       "       [ 2,  6, 10, 14],\n",
       "       [ 3,  7, 11, 15]])"
      ]
     },
     "execution_count": 28,
     "metadata": {},
     "output_type": "execute_result"
    }
   ],
   "source": [
    "b.transpose()"
   ]
  },
  {
   "cell_type": "code",
   "execution_count": 34,
   "metadata": {},
   "outputs": [],
   "source": [
    "a = np.random.random((3,4,5,6))"
   ]
  },
  {
   "cell_type": "code",
   "execution_count": 35,
   "metadata": {},
   "outputs": [
    {
     "data": {
      "text/plain": [
       "array([[[[3.68967933e-01, 9.69104255e-01, 2.44425462e-01,\n",
       "          6.63399164e-01, 3.07734691e-01, 3.87306718e-01],\n",
       "         [5.37459895e-01, 8.65327837e-01, 6.63410304e-01,\n",
       "          6.13593939e-01, 1.79450464e-01, 5.29383606e-01],\n",
       "         [7.31613933e-01, 1.22497771e-01, 8.01088636e-01,\n",
       "          8.50609166e-01, 3.65906758e-01, 6.71840443e-01],\n",
       "         [7.03578123e-01, 1.80037945e-01, 7.00523924e-01,\n",
       "          2.31580454e-01, 3.11920824e-01, 4.54010704e-01],\n",
       "         [8.61913899e-01, 9.93910169e-01, 4.41553155e-01,\n",
       "          5.62721821e-01, 6.65748040e-01, 9.52805145e-02]],\n",
       "\n",
       "        [[8.95733043e-01, 2.72340078e-01, 7.27167302e-01,\n",
       "          7.43677893e-02, 1.50530871e-01, 1.16858064e-01],\n",
       "         [7.82005618e-01, 6.54055934e-02, 9.80855668e-01,\n",
       "          3.84012682e-01, 1.73636346e-01, 9.64915133e-01],\n",
       "         [1.50928246e-01, 3.61042375e-01, 4.66389525e-01,\n",
       "          9.20810788e-01, 6.90872762e-02, 2.59244231e-01],\n",
       "         [6.79049158e-01, 6.55183721e-01, 9.80513112e-01,\n",
       "          7.61698239e-01, 8.63748674e-01, 5.07028023e-01],\n",
       "         [4.96073826e-01, 8.92727202e-03, 6.46135647e-02,\n",
       "          7.18352171e-01, 2.78339514e-01, 4.04345132e-01]],\n",
       "\n",
       "        [[4.89324215e-01, 2.60528204e-01, 4.74632945e-01,\n",
       "          1.76799022e-01, 2.90576256e-02, 8.28489897e-01],\n",
       "         [1.75870298e-01, 6.11892711e-01, 7.86575897e-01,\n",
       "          3.37318497e-01, 6.32531844e-01, 8.29325500e-02],\n",
       "         [4.24059786e-01, 9.93282672e-01, 5.31738592e-01,\n",
       "          8.58231613e-01, 4.05223784e-01, 1.53283398e-01],\n",
       "         [5.26333329e-01, 6.08259312e-01, 1.75409775e-01,\n",
       "          3.18803195e-01, 6.25417158e-01, 2.85487201e-01],\n",
       "         [7.26761303e-01, 8.12797541e-01, 7.69403884e-01,\n",
       "          4.30011529e-01, 7.10839621e-01, 1.71998675e-01]],\n",
       "\n",
       "        [[2.91087660e-02, 8.59576038e-01, 8.63557459e-01,\n",
       "          2.58095861e-01, 9.01056331e-01, 9.14502390e-01],\n",
       "         [2.38070764e-01, 6.49900782e-01, 6.75332051e-01,\n",
       "          9.49247147e-01, 9.31883168e-01, 3.42591349e-01],\n",
       "         [8.76214418e-02, 6.84606201e-01, 1.20445435e-01,\n",
       "          7.48963486e-01, 1.56929930e-03, 6.54640892e-01],\n",
       "         [6.94526373e-01, 2.82175697e-01, 1.92062534e-01,\n",
       "          1.29935044e-01, 1.29751627e-01, 1.89141612e-01],\n",
       "         [3.45480901e-01, 7.24845954e-01, 7.22207970e-01,\n",
       "          3.71619729e-01, 3.95503142e-01, 4.35374698e-01]]],\n",
       "\n",
       "\n",
       "       [[[9.00396925e-01, 9.21987939e-01, 1.50556625e-01,\n",
       "          5.35285500e-01, 6.94060539e-01, 4.37692849e-01],\n",
       "         [3.88226024e-02, 4.01164821e-01, 3.57581947e-01,\n",
       "          6.77761681e-01, 8.54761987e-01, 7.93637671e-01],\n",
       "         [3.05512938e-01, 6.32390914e-01, 8.20723133e-01,\n",
       "          2.26839184e-01, 7.82041086e-01, 2.20908615e-01],\n",
       "         [7.82933014e-01, 8.62495190e-01, 1.35842614e-01,\n",
       "          7.01784305e-01, 6.18358452e-01, 3.13975445e-01],\n",
       "         [8.73392674e-02, 5.85480541e-01, 8.32026463e-02,\n",
       "          6.39411858e-01, 2.24317813e-03, 9.26251804e-01]],\n",
       "\n",
       "        [[8.47176851e-01, 9.80988077e-01, 2.55806191e-01,\n",
       "          1.04087379e-01, 6.36719525e-01, 6.95459157e-01],\n",
       "         [7.13588379e-01, 7.69843020e-01, 5.70193934e-01,\n",
       "          1.35477833e-01, 3.85406577e-01, 4.29962479e-01],\n",
       "         [1.28687672e-01, 9.71508541e-01, 7.72533185e-01,\n",
       "          9.97472747e-01, 6.42696243e-04, 4.15230404e-01],\n",
       "         [9.35503085e-01, 4.61731694e-01, 8.20472351e-01,\n",
       "          5.44955262e-01, 9.65236750e-01, 4.49477221e-01],\n",
       "         [2.29537511e-01, 1.99967974e-01, 4.78462527e-01,\n",
       "          7.29585941e-01, 8.52507635e-01, 3.20064005e-03]],\n",
       "\n",
       "        [[2.73071713e-02, 1.90217999e-01, 2.46491930e-01,\n",
       "          4.46945970e-01, 1.58335648e-01, 4.33289936e-02],\n",
       "         [8.31158390e-01, 8.16998748e-01, 3.94557923e-01,\n",
       "          6.44640746e-02, 4.01317357e-01, 1.37303500e-01],\n",
       "         [9.12279194e-01, 6.75094078e-01, 6.69337295e-01,\n",
       "          4.91742285e-01, 4.10603974e-01, 6.61320297e-01],\n",
       "         [1.00595643e-02, 3.25426662e-01, 3.14563408e-01,\n",
       "          5.62133661e-01, 5.31266885e-01, 2.45559647e-01],\n",
       "         [2.99203170e-01, 6.87105934e-01, 7.04242833e-01,\n",
       "          8.02704951e-01, 2.55655970e-01, 7.91146000e-01]],\n",
       "\n",
       "        [[4.43671546e-01, 7.00937224e-01, 1.81899604e-01,\n",
       "          9.86123286e-01, 6.44011319e-01, 8.71138101e-01],\n",
       "         [9.29347257e-01, 1.48527751e-01, 2.13597266e-01,\n",
       "          1.02126377e-01, 6.69760590e-02, 4.53723703e-01],\n",
       "         [8.67815461e-01, 2.64584179e-01, 6.12285649e-01,\n",
       "          2.81096633e-02, 2.40136951e-01, 9.29514586e-01],\n",
       "         [7.70646475e-01, 1.38658491e-01, 8.95371730e-01,\n",
       "          4.75875120e-01, 7.36862117e-01, 9.94788945e-01],\n",
       "         [5.11372600e-01, 5.42684626e-02, 4.51819286e-01,\n",
       "          7.42270935e-02, 4.79240713e-01, 3.21669565e-01]]],\n",
       "\n",
       "\n",
       "       [[[5.88952081e-01, 2.31235143e-01, 5.53760047e-01,\n",
       "          7.40114520e-01, 8.69746288e-01, 7.81589357e-01],\n",
       "         [8.62142593e-01, 7.79574752e-01, 2.06452138e-01,\n",
       "          3.45260889e-01, 2.16129294e-01, 7.67003019e-01],\n",
       "         [4.00753649e-01, 3.68949752e-01, 8.56685167e-01,\n",
       "          1.70862619e-01, 9.59729550e-01, 2.05298493e-01],\n",
       "         [2.44295581e-01, 5.99165899e-01, 3.94480830e-01,\n",
       "          9.43346593e-01, 8.26413291e-01, 9.17023003e-01],\n",
       "         [6.12795050e-02, 9.27116816e-01, 1.10798102e-01,\n",
       "          2.08971332e-01, 3.18866154e-01, 3.27348170e-01]],\n",
       "\n",
       "        [[2.67532833e-01, 1.05827144e-02, 3.42360068e-01,\n",
       "          9.34473487e-01, 2.45663227e-01, 6.25573720e-01],\n",
       "         [7.44066131e-01, 7.22234098e-01, 2.84359710e-01,\n",
       "          8.10693146e-01, 2.00988557e-01, 3.53853830e-01],\n",
       "         [6.00127879e-01, 5.80246914e-01, 7.82700599e-01,\n",
       "          6.46256468e-01, 4.03299770e-01, 8.53940478e-01],\n",
       "         [1.61428526e-01, 1.90231134e-02, 1.56741984e-01,\n",
       "          8.62104775e-01, 7.99800052e-01, 9.09144205e-01],\n",
       "         [2.10873913e-01, 7.02767442e-01, 5.20144130e-01,\n",
       "          9.88070787e-01, 8.76485778e-01, 7.38005897e-01]],\n",
       "\n",
       "        [[1.91713762e-01, 1.94514311e-01, 1.70733629e-01,\n",
       "          3.43543654e-02, 1.14106557e-01, 8.80377702e-01],\n",
       "         [6.93208132e-01, 3.54495891e-01, 4.92287480e-01,\n",
       "          3.34083952e-02, 7.52841223e-01, 1.76286499e-01],\n",
       "         [8.65811773e-01, 8.69287837e-01, 2.67218870e-01,\n",
       "          8.70771364e-01, 2.57177343e-01, 2.05918169e-01],\n",
       "         [7.76541243e-01, 4.65665005e-02, 6.83492657e-01,\n",
       "          7.93985427e-01, 5.01937636e-01, 5.87638599e-01],\n",
       "         [2.75161791e-01, 2.08174540e-01, 8.49201563e-02,\n",
       "          9.87700235e-01, 1.58033579e-01, 7.97146362e-01]],\n",
       "\n",
       "        [[6.11599317e-01, 9.31114668e-01, 2.06774495e-01,\n",
       "          9.84220849e-01, 7.72059512e-01, 3.18436718e-02],\n",
       "         [3.95682845e-01, 8.53481650e-02, 8.56342390e-01,\n",
       "          8.86416024e-01, 8.80898518e-01, 3.17702325e-01],\n",
       "         [5.31594221e-01, 6.05138892e-01, 5.11393627e-01,\n",
       "          5.60093427e-01, 3.03416964e-01, 5.53231219e-01],\n",
       "         [2.97658172e-01, 1.77725629e-01, 7.47192792e-01,\n",
       "          6.50247745e-01, 7.65838261e-02, 1.01869574e-01],\n",
       "         [4.00809925e-01, 9.70694904e-01, 8.99565130e-01,\n",
       "          9.81178963e-01, 2.06628615e-01, 4.61536389e-01]]]])"
      ]
     },
     "execution_count": 35,
     "metadata": {},
     "output_type": "execute_result"
    }
   ],
   "source": [
    "a"
   ]
  },
  {
   "cell_type": "code",
   "execution_count": 38,
   "metadata": {},
   "outputs": [],
   "source": [
    "a = np.ones((3,3))"
   ]
  },
  {
   "cell_type": "code",
   "execution_count": 39,
   "metadata": {},
   "outputs": [
    {
     "data": {
      "text/plain": [
       "array([[1., 1., 1.],\n",
       "       [1., 1., 1.],\n",
       "       [1., 1., 1.]])"
      ]
     },
     "execution_count": 39,
     "metadata": {},
     "output_type": "execute_result"
    }
   ],
   "source": [
    "a"
   ]
  },
  {
   "cell_type": "code",
   "execution_count": 40,
   "metadata": {},
   "outputs": [],
   "source": [
    "a = np.zeros((3,4))"
   ]
  },
  {
   "cell_type": "code",
   "execution_count": 41,
   "metadata": {},
   "outputs": [
    {
     "data": {
      "text/plain": [
       "array([[0., 0., 0., 0.],\n",
       "       [0., 0., 0., 0.],\n",
       "       [0., 0., 0., 0.]])"
      ]
     },
     "execution_count": 41,
     "metadata": {},
     "output_type": "execute_result"
    }
   ],
   "source": [
    "a"
   ]
  },
  {
   "cell_type": "code",
   "execution_count": 44,
   "metadata": {},
   "outputs": [],
   "source": [
    "b = np.eye(3,3)"
   ]
  },
  {
   "cell_type": "code",
   "execution_count": 45,
   "metadata": {},
   "outputs": [
    {
     "data": {
      "text/plain": [
       "array([[1., 0., 0.],\n",
       "       [0., 1., 0.],\n",
       "       [0., 0., 1.]])"
      ]
     },
     "execution_count": 45,
     "metadata": {},
     "output_type": "execute_result"
    }
   ],
   "source": [
    "b"
   ]
  },
  {
   "cell_type": "code",
   "execution_count": 46,
   "metadata": {},
   "outputs": [],
   "source": [
    "np.save(\"b_xxx.py\", b)"
   ]
  },
  {
   "cell_type": "code",
   "execution_count": 47,
   "metadata": {},
   "outputs": [],
   "source": [
    "c = np.load(\"b_xxx.py.npy\")"
   ]
  },
  {
   "cell_type": "code",
   "execution_count": 48,
   "metadata": {},
   "outputs": [
    {
     "data": {
      "text/plain": [
       "array([[1., 0., 0.],\n",
       "       [0., 1., 0.],\n",
       "       [0., 0., 1.]])"
      ]
     },
     "execution_count": 48,
     "metadata": {},
     "output_type": "execute_result"
    }
   ],
   "source": [
    "c"
   ]
  },
  {
   "cell_type": "code",
   "execution_count": 49,
   "metadata": {},
   "outputs": [
    {
     "data": {
      "text/plain": [
       "array([[0., 0., 0., 0.],\n",
       "       [0., 0., 0., 0.],\n",
       "       [0., 0., 0., 0.]])"
      ]
     },
     "execution_count": 49,
     "metadata": {},
     "output_type": "execute_result"
    }
   ],
   "source": [
    "a"
   ]
  },
  {
   "cell_type": "code",
   "execution_count": 55,
   "metadata": {},
   "outputs": [],
   "source": [
    "np.savetxt(\"a_xxxx\", a, delimiter=\".\")"
   ]
  },
  {
   "cell_type": "code",
   "execution_count": 56,
   "metadata": {},
   "outputs": [],
   "source": [
    "d = np.genfromtxt(\"a_xxxx\", delimiter=\".\")"
   ]
  },
  {
   "cell_type": "code",
   "execution_count": 57,
   "metadata": {},
   "outputs": [
    {
     "data": {
      "text/plain": [
       "array([[0., 0., 0., 0., 0., 0., 0., 0.],\n",
       "       [0., 0., 0., 0., 0., 0., 0., 0.],\n",
       "       [0., 0., 0., 0., 0., 0., 0., 0.]])"
      ]
     },
     "execution_count": 57,
     "metadata": {},
     "output_type": "execute_result"
    }
   ],
   "source": [
    "d"
   ]
  },
  {
   "cell_type": "code",
   "execution_count": 58,
   "metadata": {},
   "outputs": [],
   "source": [
    "a = np.random.random((3,4))"
   ]
  },
  {
   "cell_type": "code",
   "execution_count": 59,
   "metadata": {},
   "outputs": [
    {
     "data": {
      "text/plain": [
       "array([[0.13662957, 0.92342748, 0.10814142, 0.97883414],\n",
       "       [0.94736775, 0.36725167, 0.30825549, 0.43755935],\n",
       "       [0.49425296, 0.70912102, 0.01368915, 0.36007129]])"
      ]
     },
     "execution_count": 59,
     "metadata": {},
     "output_type": "execute_result"
    }
   ],
   "source": [
    "a"
   ]
  },
  {
   "cell_type": "code",
   "execution_count": 60,
   "metadata": {},
   "outputs": [
    {
     "data": {
      "text/plain": [
       "5.7846012948593435"
      ]
     },
     "execution_count": 60,
     "metadata": {},
     "output_type": "execute_result"
    }
   ],
   "source": [
    "a.sum()"
   ]
  },
  {
   "cell_type": "code",
   "execution_count": 61,
   "metadata": {},
   "outputs": [
    {
     "data": {
      "text/plain": [
       "(3, 4)"
      ]
     },
     "execution_count": 61,
     "metadata": {},
     "output_type": "execute_result"
    }
   ],
   "source": [
    "a.shape"
   ]
  },
  {
   "cell_type": "code",
   "execution_count": 62,
   "metadata": {},
   "outputs": [
    {
     "data": {
      "text/plain": [
       "array([1.57825028, 1.99980017, 0.43008607, 1.77646478])"
      ]
     },
     "execution_count": 62,
     "metadata": {},
     "output_type": "execute_result"
    }
   ],
   "source": [
    "a.sum(axis = 0)"
   ]
  },
  {
   "cell_type": "code",
   "execution_count": 63,
   "metadata": {},
   "outputs": [
    {
     "data": {
      "text/plain": [
       "array([2.14703262, 2.06043426, 1.57713442])"
      ]
     },
     "execution_count": 63,
     "metadata": {},
     "output_type": "execute_result"
    }
   ],
   "source": [
    "a.sum(axis = 1)"
   ]
  },
  {
   "cell_type": "code",
   "execution_count": 64,
   "metadata": {},
   "outputs": [
    {
     "data": {
      "text/plain": [
       "(3, 4)"
      ]
     },
     "execution_count": 64,
     "metadata": {},
     "output_type": "execute_result"
    }
   ],
   "source": [
    "a.shape"
   ]
  },
  {
   "cell_type": "code",
   "execution_count": 65,
   "metadata": {},
   "outputs": [],
   "source": [
    "b = np.random.random((4,5))"
   ]
  },
  {
   "cell_type": "code",
   "execution_count": 66,
   "metadata": {},
   "outputs": [
    {
     "data": {
      "text/plain": [
       "array([[0.99331745, 1.43148089, 1.26250669, 0.71519636, 1.0359997 ],\n",
       "       [0.78348165, 1.11462878, 0.78063333, 0.98241979, 1.20505246],\n",
       "       [0.48789791, 1.0075165 , 0.66807288, 0.52571756, 0.87645585]])"
      ]
     },
     "execution_count": 66,
     "metadata": {},
     "output_type": "execute_result"
    }
   ],
   "source": [
    "a.dot(b)"
   ]
  },
  {
   "cell_type": "code",
   "execution_count": 67,
   "metadata": {},
   "outputs": [
    {
     "data": {
      "text/plain": [
       "array([[0.99331745, 1.43148089, 1.26250669, 0.71519636, 1.0359997 ],\n",
       "       [0.78348165, 1.11462878, 0.78063333, 0.98241979, 1.20505246],\n",
       "       [0.48789791, 1.0075165 , 0.66807288, 0.52571756, 0.87645585]])"
      ]
     },
     "execution_count": 67,
     "metadata": {},
     "output_type": "execute_result"
    }
   ],
   "source": [
    "np.dot(a,b)"
   ]
  },
  {
   "cell_type": "code",
   "execution_count": null,
   "metadata": {},
   "outputs": [],
   "source": []
  }
 ],
 "metadata": {
  "kernelspec": {
   "display_name": "Python 3.7.6 64-bit ('base': conda)",
   "language": "python",
   "name": "python37664bitbaseconda39872f25d044465db2c0025d6a59bee5"
  },
  "language_info": {
   "codemirror_mode": {
    "name": "ipython",
    "version": 3
   },
   "file_extension": ".py",
   "mimetype": "text/x-python",
   "name": "python",
   "nbconvert_exporter": "python",
   "pygments_lexer": "ipython3",
   "version": "3.7.6"
  }
 },
 "nbformat": 4,
 "nbformat_minor": 4
}
